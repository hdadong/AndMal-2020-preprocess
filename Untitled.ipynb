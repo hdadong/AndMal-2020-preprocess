{
 "cells": [
  {
   "cell_type": "code",
   "execution_count": 6,
   "metadata": {},
   "outputs": [],
   "source": [
    "import csv\n"
   ]
  },
  {
   "cell_type": "code",
   "execution_count": 7,
   "metadata": {},
   "outputs": [
    {
     "name": "stdout",
     "output_type": "stream",
     "text": [
      "9504\n"
     ]
    }
   ],
   "source": [
    "result = csv.reader(open('Ben3.csv','r'))\n",
    "result = list(result)\n",
    "\n",
    "print(len(result[0]))"
   ]
  },
  {
   "cell_type": "code",
   "execution_count": 8,
   "metadata": {},
   "outputs": [
    {
     "name": "stdout",
     "output_type": "stream",
     "text": [
      "9504\n"
     ]
    }
   ],
   "source": [
    "print(len(result[1]))"
   ]
  },
  {
   "cell_type": "code",
   "execution_count": 9,
   "metadata": {},
   "outputs": [
    {
     "name": "stdout",
     "output_type": "stream",
     "text": [
      "7847\n"
     ]
    }
   ],
   "source": [
    "print(len(result))"
   ]
  },
  {
   "cell_type": "code",
   "execution_count": 10,
   "metadata": {},
   "outputs": [
    {
     "ename": "KeyboardInterrupt",
     "evalue": "",
     "output_type": "error",
     "traceback": [
      "\u001b[1;31m---------------------------------------------------------------------------\u001b[0m",
      "\u001b[1;31mKeyboardInterrupt\u001b[0m                         Traceback (most recent call last)",
      "\u001b[1;32m<ipython-input-10-bb8e7f280ee1>\u001b[0m in \u001b[0;36m<module>\u001b[1;34m\u001b[0m\n\u001b[0;32m      1\u001b[0m \u001b[0mresult2\u001b[0m \u001b[1;33m=\u001b[0m \u001b[0mcsv\u001b[0m\u001b[1;33m.\u001b[0m\u001b[0mreader\u001b[0m\u001b[1;33m(\u001b[0m\u001b[0mopen\u001b[0m\u001b[1;33m(\u001b[0m\u001b[1;34m'Adware.csv'\u001b[0m\u001b[1;33m,\u001b[0m\u001b[1;34m'r'\u001b[0m\u001b[1;33m)\u001b[0m\u001b[1;33m)\u001b[0m\u001b[1;33m\u001b[0m\u001b[1;33m\u001b[0m\u001b[0m\n\u001b[1;32m----> 2\u001b[1;33m \u001b[0mresult2\u001b[0m \u001b[1;33m=\u001b[0m \u001b[0mlist\u001b[0m\u001b[1;33m(\u001b[0m\u001b[0mresult2\u001b[0m\u001b[1;33m)\u001b[0m\u001b[1;33m\u001b[0m\u001b[1;33m\u001b[0m\u001b[0m\n\u001b[0m\u001b[0;32m      3\u001b[0m \u001b[1;33m\u001b[0m\u001b[0m\n\u001b[0;32m      4\u001b[0m \u001b[0mprint\u001b[0m\u001b[1;33m(\u001b[0m\u001b[0mlen\u001b[0m\u001b[1;33m(\u001b[0m\u001b[0mresult2\u001b[0m\u001b[1;33m)\u001b[0m\u001b[1;33m)\u001b[0m\u001b[1;33m\u001b[0m\u001b[1;33m\u001b[0m\u001b[0m\n",
      "\u001b[1;31mKeyboardInterrupt\u001b[0m: "
     ]
    }
   ],
   "source": [
    "result2 = csv.reader(open('Adware.csv','r'))\n",
    "result2 = list(result2)\n",
    "\n",
    "print(len(result2))"
   ]
  },
  {
   "cell_type": "code",
   "execution_count": null,
   "metadata": {},
   "outputs": [],
   "source": [
    "print(result2[0])"
   ]
  },
  {
   "cell_type": "code",
   "execution_count": null,
   "metadata": {},
   "outputs": [],
   "source": [
    "print(result2[2])"
   ]
  },
  {
   "cell_type": "code",
   "execution_count": null,
   "metadata": {},
   "outputs": [],
   "source": [
    "import random\n",
    "result = csv.reader(open('feature_vectors_syscallsbinders_frequency_5_Cat.csv','r'))\n",
    "print(result)\n",
    "result = list(result)\n",
    "print(result)\n",
    "result = random.shuffle(result)\n",
    "print(result)\n",
    "#train = result[0:9000]\n",
    "#test = result[90005\n",
    "\n",
    "#print(test)"
   ]
  },
  {
   "cell_type": "code",
   "execution_count": 68,
   "metadata": {
    "scrolled": true
   },
   "outputs": [
    {
     "name": "stdout",
     "output_type": "stream",
     "text": [
      "4721\n",
      "153\n",
      "66\n",
      "229\n",
      "205\n",
      "620\n",
      "9734\n",
      "155\n",
      "1355\n",
      "88\n",
      "230\n",
      "312\n",
      "354\n",
      "1334\n",
      "3208\n",
      "4785\n",
      "4263\n",
      "784\n",
      "3175\n",
      "4721\n",
      "153\n",
      "66\n",
      "229\n",
      "205\n",
      "620\n",
      "9734\n",
      "155\n",
      "1355\n",
      "88\n",
      "230\n",
      "312\n",
      "354\n",
      "1334\n",
      "3208\n",
      "4785\n",
      "4263\n",
      "784\n",
      "3175\n"
     ]
    },
    {
     "ename": "MemoryError",
     "evalue": "Unable to allocate 2.53 GiB for an array with shape (9504, 35771) and data type float64",
     "output_type": "error",
     "traceback": [
      "\u001b[1;31m---------------------------------------------------------------------------\u001b[0m",
      "\u001b[1;31mMemoryError\u001b[0m                               Traceback (most recent call last)",
      "\u001b[1;32m<ipython-input-68-35d263cae2f2>\u001b[0m in \u001b[0;36m<module>\u001b[1;34m\u001b[0m\n\u001b[0;32m     69\u001b[0m         \u001b[0mdata_label\u001b[0m \u001b[1;33m=\u001b[0m \u001b[0mpd\u001b[0m\u001b[1;33m.\u001b[0m\u001b[0mDataFrame\u001b[0m\u001b[1;33m(\u001b[0m\u001b[0mdata_label\u001b[0m\u001b[1;33m)\u001b[0m\u001b[1;33m\u001b[0m\u001b[1;33m\u001b[0m\u001b[0m\n\u001b[0;32m     70\u001b[0m         \u001b[0mt\u001b[0m\u001b[1;33m.\u001b[0m\u001b[0mappend\u001b[0m\u001b[1;33m(\u001b[0m\u001b[0mdata_label\u001b[0m\u001b[1;33m)\u001b[0m\u001b[1;33m\u001b[0m\u001b[1;33m\u001b[0m\u001b[0m\n\u001b[1;32m---> 71\u001b[1;33m     \u001b[0mdf\u001b[0m \u001b[1;33m=\u001b[0m \u001b[0mpd\u001b[0m\u001b[1;33m.\u001b[0m\u001b[0mconcat\u001b[0m\u001b[1;33m(\u001b[0m\u001b[0mt\u001b[0m\u001b[1;33m,\u001b[0m \u001b[0mignore_index\u001b[0m\u001b[1;33m=\u001b[0m\u001b[1;32mTrue\u001b[0m\u001b[1;33m)\u001b[0m\u001b[1;33m\u001b[0m\u001b[1;33m\u001b[0m\u001b[0m\n\u001b[0m\u001b[0;32m     72\u001b[0m     \u001b[0mdf\u001b[0m\u001b[1;33m.\u001b[0m\u001b[0mto_csv\u001b[0m\u001b[1;33m(\u001b[0m\u001b[0mstr\u001b[0m\u001b[1;33m(\u001b[0m\u001b[0mi\u001b[0m\u001b[1;33m)\u001b[0m\u001b[1;33m+\u001b[0m\u001b[1;34m\".csv\"\u001b[0m\u001b[1;33m,\u001b[0m\u001b[0mindex\u001b[0m\u001b[1;33m=\u001b[0m\u001b[1;32mFalse\u001b[0m\u001b[1;33m,\u001b[0m\u001b[0mheader\u001b[0m\u001b[1;33m=\u001b[0m\u001b[1;32mFalse\u001b[0m\u001b[1;33m,\u001b[0m\u001b[0mchunksize\u001b[0m\u001b[1;33m=\u001b[0m\u001b[1;36m1000\u001b[0m\u001b[1;33m)\u001b[0m\u001b[1;33m\u001b[0m\u001b[1;33m\u001b[0m\u001b[0m\n\u001b[0;32m     73\u001b[0m     '''\n",
      "\u001b[1;32mD:\\anaconda3.0\\lib\\site-packages\\pandas\\core\\reshape\\concat.py\u001b[0m in \u001b[0;36mconcat\u001b[1;34m(objs, axis, join, ignore_index, keys, levels, names, verify_integrity, sort, copy)\u001b[0m\n\u001b[0;32m    282\u001b[0m     )\n\u001b[0;32m    283\u001b[0m \u001b[1;33m\u001b[0m\u001b[0m\n\u001b[1;32m--> 284\u001b[1;33m     \u001b[1;32mreturn\u001b[0m \u001b[0mop\u001b[0m\u001b[1;33m.\u001b[0m\u001b[0mget_result\u001b[0m\u001b[1;33m(\u001b[0m\u001b[1;33m)\u001b[0m\u001b[1;33m\u001b[0m\u001b[1;33m\u001b[0m\u001b[0m\n\u001b[0m\u001b[0;32m    285\u001b[0m \u001b[1;33m\u001b[0m\u001b[0m\n\u001b[0;32m    286\u001b[0m \u001b[1;33m\u001b[0m\u001b[0m\n",
      "\u001b[1;32mD:\\anaconda3.0\\lib\\site-packages\\pandas\\core\\reshape\\concat.py\u001b[0m in \u001b[0;36mget_result\u001b[1;34m(self)\u001b[0m\n\u001b[0;32m    495\u001b[0m \u001b[1;33m\u001b[0m\u001b[0m\n\u001b[0;32m    496\u001b[0m             new_data = concatenate_block_managers(\n\u001b[1;32m--> 497\u001b[1;33m                 \u001b[0mmgrs_indexers\u001b[0m\u001b[1;33m,\u001b[0m \u001b[0mself\u001b[0m\u001b[1;33m.\u001b[0m\u001b[0mnew_axes\u001b[0m\u001b[1;33m,\u001b[0m \u001b[0mconcat_axis\u001b[0m\u001b[1;33m=\u001b[0m\u001b[0mself\u001b[0m\u001b[1;33m.\u001b[0m\u001b[0maxis\u001b[0m\u001b[1;33m,\u001b[0m \u001b[0mcopy\u001b[0m\u001b[1;33m=\u001b[0m\u001b[0mself\u001b[0m\u001b[1;33m.\u001b[0m\u001b[0mcopy\u001b[0m\u001b[1;33m\u001b[0m\u001b[1;33m\u001b[0m\u001b[0m\n\u001b[0m\u001b[0;32m    498\u001b[0m             )\n\u001b[0;32m    499\u001b[0m             \u001b[1;32mif\u001b[0m \u001b[1;32mnot\u001b[0m \u001b[0mself\u001b[0m\u001b[1;33m.\u001b[0m\u001b[0mcopy\u001b[0m\u001b[1;33m:\u001b[0m\u001b[1;33m\u001b[0m\u001b[1;33m\u001b[0m\u001b[0m\n",
      "\u001b[1;32mD:\\anaconda3.0\\lib\\site-packages\\pandas\\core\\internals\\managers.py\u001b[0m in \u001b[0;36mconcatenate_block_managers\u001b[1;34m(mgrs_indexers, axes, concat_axis, copy)\u001b[0m\n\u001b[0;32m   2016\u001b[0m         \u001b[1;32melif\u001b[0m \u001b[0mis_uniform_join_units\u001b[0m\u001b[1;33m(\u001b[0m\u001b[0mjoin_units\u001b[0m\u001b[1;33m)\u001b[0m\u001b[1;33m:\u001b[0m\u001b[1;33m\u001b[0m\u001b[1;33m\u001b[0m\u001b[0m\n\u001b[0;32m   2017\u001b[0m             b = join_units[0].block.concat_same_type(\n\u001b[1;32m-> 2018\u001b[1;33m                 \u001b[1;33m[\u001b[0m\u001b[0mju\u001b[0m\u001b[1;33m.\u001b[0m\u001b[0mblock\u001b[0m \u001b[1;32mfor\u001b[0m \u001b[0mju\u001b[0m \u001b[1;32min\u001b[0m \u001b[0mjoin_units\u001b[0m\u001b[1;33m]\u001b[0m\u001b[1;33m,\u001b[0m \u001b[0mplacement\u001b[0m\u001b[1;33m=\u001b[0m\u001b[0mplacement\u001b[0m\u001b[1;33m\u001b[0m\u001b[1;33m\u001b[0m\u001b[0m\n\u001b[0m\u001b[0;32m   2019\u001b[0m             )\n\u001b[0;32m   2020\u001b[0m         \u001b[1;32melse\u001b[0m\u001b[1;33m:\u001b[0m\u001b[1;33m\u001b[0m\u001b[1;33m\u001b[0m\u001b[0m\n",
      "\u001b[1;32mD:\\anaconda3.0\\lib\\site-packages\\pandas\\core\\internals\\blocks.py\u001b[0m in \u001b[0;36mconcat_same_type\u001b[1;34m(self, to_concat, placement)\u001b[0m\n\u001b[0;32m    357\u001b[0m         \"\"\"\n\u001b[0;32m    358\u001b[0m         values = self._concatenator(\n\u001b[1;32m--> 359\u001b[1;33m             \u001b[1;33m[\u001b[0m\u001b[0mblk\u001b[0m\u001b[1;33m.\u001b[0m\u001b[0mvalues\u001b[0m \u001b[1;32mfor\u001b[0m \u001b[0mblk\u001b[0m \u001b[1;32min\u001b[0m \u001b[0mto_concat\u001b[0m\u001b[1;33m]\u001b[0m\u001b[1;33m,\u001b[0m \u001b[0maxis\u001b[0m\u001b[1;33m=\u001b[0m\u001b[0mself\u001b[0m\u001b[1;33m.\u001b[0m\u001b[0mndim\u001b[0m \u001b[1;33m-\u001b[0m \u001b[1;36m1\u001b[0m\u001b[1;33m\u001b[0m\u001b[1;33m\u001b[0m\u001b[0m\n\u001b[0m\u001b[0;32m    360\u001b[0m         )\n\u001b[0;32m    361\u001b[0m         return self.make_block_same_class(\n",
      "\u001b[1;32m<__array_function__ internals>\u001b[0m in \u001b[0;36mconcatenate\u001b[1;34m(*args, **kwargs)\u001b[0m\n",
      "\u001b[1;31mMemoryError\u001b[0m: Unable to allocate 2.53 GiB for an array with shape (9504, 35771) and data type float64"
     ]
    }
   ],
   "source": [
    "\n",
    "import numpy as np \n",
    "import pandas as pd \n",
    "blocksize = 10 #把每个CSV分成10份融合成一个CSV\n",
    "cols = list(range(1,9504))#不要第一列的MD5\n",
    "pdchunk=[]\n",
    "data = [\"Adware\",\n",
    "           \"Backdoor\",\n",
    "           \"FileInfector\",\n",
    "           \"NoCategory\",\n",
    "           \"PUA\",\n",
    "           \"Ransomware\",\n",
    "        \"Riskware\",\n",
    "           \"Scareware\",\n",
    "        \"Trojan\",\n",
    "        \"Banker\",\n",
    "           \"Dropper\",\n",
    "           \"SMS\",\n",
    "           \"Spy\",\n",
    "           \"Zeroday\",\n",
    "            \"Ben0\",\n",
    "        \"Ben1\",\n",
    "        \"Ben2\",\n",
    "        \"Ben3\",\n",
    "        \"Ben4\"   \n",
    "       ]\n",
    "size = [47210,\n",
    "        1538,\n",
    "        669,\n",
    "        2296,\n",
    "        2051,\n",
    "        6202,\n",
    "        97349,\n",
    "        1556,\n",
    "        13559,\n",
    "        887,\n",
    "        2302,\n",
    "        3125,\n",
    "        3540,\n",
    "        13340,\n",
    "        32083,#Ben0\n",
    "        47859,#Ben1\n",
    "        42633,#Ben2\n",
    "        7845,#Ben3\n",
    "        31752 #Ben4\n",
    "       ]\n",
    "\n",
    "d=[]\n",
    "for i in range(0,len(data)):#获取每个CSV的分块对象\n",
    "    chunk_size = int(size[i]/blocksize)\n",
    "    dataset = pd.read_csv(data[i]+\".csv\",dtype=float,skiprows=1, chunksize=chunk_size, iterator=True ,usecols=cols)\n",
    "    #dataset = list(dataset)\n",
    "    d.append(dataset)\n",
    "\n",
    "\n",
    "for i in range(0,blocksize):#一共建立blocksizeCSV\n",
    "    t=[]\n",
    "    labels=[]\n",
    "\n",
    "    for p in range(0,len(data)):\n",
    "        chunk_size = int(size[p]/blocksize)\n",
    "        c = np.array(d[p].get_chunk(chunk_size))\n",
    "        print(c.shape[0])\n",
    "        label = np.ones((c.shape[0],1))\n",
    "        if p < 14:\n",
    "            label = label*p\n",
    "        else:# p=12~16都是良性的数据，标签一样\n",
    "            label = label*14\n",
    "        data_label = np.hstack((c,label))\n",
    "        data_label = pd.DataFrame(data_label)\n",
    "        t.append(data_label)\n",
    "    df = pd.concat(t, ignore_index=True)\n",
    "    df.to_csv(str(i)+\".csv\",index=False,header=False,chunksize=1000)\n",
    "    '''\n",
    "    df.to_csv(str(i)+\".csv.gz\"\n",
    "         , header=False\n",
    "         , index=False\n",
    "         , chunksize=1000\n",
    "         , compression='gzip'\n",
    "         , encoding='utf-8')\n",
    "    '''"
   ]
  },
  {
   "cell_type": "code",
   "execution_count": 62,
   "metadata": {
    "scrolled": false
   },
   "outputs": [
    {
     "name": "stdout",
     "output_type": "stream",
     "text": [
      "         17    0  0.1     32     4    2   0.2     6  2.1  0.3  ...  0.9475  \\\n",
      "0      98.0  0.0  0.0   90.0   1.0  1.0   1.0  12.0  1.0  0.0  ...     0.0   \n",
      "1     943.0  6.0  0.0  126.0   7.0  4.0  10.0  15.0  2.0  1.0  ...     0.0   \n",
      "2     260.0  3.0  0.0   28.0   1.0  1.0   0.0   0.0  1.0  0.0  ...     0.0   \n",
      "3     551.0  3.0  0.0   60.0  25.0  1.0   1.0  12.0  1.0  0.0  ...     0.0   \n",
      "4     435.0  0.0  0.0  119.0   5.0  5.0   7.0  10.0  1.0  3.0  ...     0.0   \n",
      "...     ...  ...  ...    ...   ...  ...   ...   ...  ...  ...  ...     ...   \n",
      "9995  385.0  0.0  0.0   68.0   9.0  2.0   0.0  13.0  1.0  0.0  ...     0.0   \n",
      "9996    9.0  0.0  0.0    5.0   1.0  0.0   0.0   2.0  1.0  0.0  ...     0.0   \n",
      "9997  355.0  0.0  0.0    8.0   0.0  2.0   1.0   5.0  3.0  0.0  ...     0.0   \n",
      "9998    3.0  0.0  0.0  536.0   1.0  1.0   0.0   0.0  1.0  0.0  ...     0.0   \n",
      "9999  138.0  0.0  0.0   42.0   3.0  2.0   0.0   3.0  1.0  0.0  ...     0.0   \n",
      "\n",
      "      0.9476  0.9477  0.9478  0.9479  0.9480  0.9481  0.9482  0.9483  0.9484  \n",
      "0        0.0     0.0     0.0     0.0     0.0     0.0     0.0     0.0     0.0  \n",
      "1        0.0     0.0     0.0     0.0     0.0     0.0     0.0     0.0     0.0  \n",
      "2        0.0     0.0     0.0     0.0     0.0     0.0     0.0     0.0     0.0  \n",
      "3        0.0     0.0     0.0     0.0     0.0     0.0     0.0     0.0     0.0  \n",
      "4        0.0     0.0     0.0     0.0     0.0     0.0     0.0     0.0     0.0  \n",
      "...      ...     ...     ...     ...     ...     ...     ...     ...     ...  \n",
      "9995     0.0     0.0     0.0     0.0     0.0     0.0     0.0     0.0     0.0  \n",
      "9996     0.0     0.0     0.0     0.0     0.0     0.0     0.0     0.0     0.0  \n",
      "9997     0.0     0.0     0.0     0.0     0.0     0.0     0.0     0.0     0.0  \n",
      "9998     0.0     0.0     0.0     0.0     0.0     0.0     0.0     0.0     0.0  \n",
      "9999     0.0     0.0     0.0     0.0     0.0     0.0     0.0     0.0     0.0  \n",
      "\n",
      "[10000 rows x 9503 columns]\n",
      "         439    0  0.1     32     4     2   2.1    10    1  1.1  ...  0.9470  \\\n",
      "0       61.0  4.0  0.0   27.0   3.0   3.0   0.0   5.0  2.0  0.0  ...     0.0   \n",
      "1       27.0  0.0  0.0   16.0   1.0   0.0   0.0   5.0  1.0  0.0  ...     0.0   \n",
      "2     1294.0  0.0  0.0   86.0  10.0   1.0   0.0   6.0  1.0  1.0  ...     0.0   \n",
      "3      173.0  0.0  0.0   51.0  10.0   2.0   0.0   4.0  1.0  0.0  ...     0.0   \n",
      "4      253.0  0.0  0.0   38.0   2.0   3.0   6.0  27.0  1.0  1.0  ...     0.0   \n",
      "...      ...  ...  ...    ...   ...   ...   ...   ...  ...  ...  ...     ...   \n",
      "9995  1055.0  0.0  1.0   26.0   8.0   3.0   4.0  18.0  3.0  2.0  ...     0.0   \n",
      "9996   561.0  0.0  0.0   59.0  23.0   3.0   0.0   8.0  1.0  1.0  ...     0.0   \n",
      "9997   630.0  0.0  0.0  300.0  23.0  11.0  17.0  13.0  2.0  4.0  ...     0.0   \n",
      "9998   107.0  0.0  0.0    3.0   0.0   1.0   0.0   2.0  1.0  0.0  ...     0.0   \n",
      "9999  2406.0  0.0  0.0  161.0  31.0   5.0  16.0  27.0  5.0  4.0  ...     0.0   \n",
      "\n",
      "      0.9471  0.9472  0.9473  0.9474  0.9475  0.9476  0.9477  0.9478  0.9479  \n",
      "0        0.0     0.0     0.0     0.0     0.0     0.0     0.0     0.0     0.0  \n",
      "1        0.0     0.0     0.0     0.0     0.0     0.0     0.0     0.0     0.0  \n",
      "2        0.0     0.0     0.0     0.0     0.0     0.0     0.0     0.0     0.0  \n",
      "3        0.0     0.0     0.0     0.0     0.0     0.0     0.0     0.0     0.0  \n",
      "4        0.0     0.0     0.0     0.0     0.0     0.0     0.0     0.0     0.0  \n",
      "...      ...     ...     ...     ...     ...     ...     ...     ...     ...  \n",
      "9995     0.0     0.0     0.0     0.0     0.0     0.0     0.0     0.0     0.0  \n",
      "9996     0.0     0.0     0.0     0.0     0.0     0.0     0.0     0.0     0.0  \n",
      "9997     0.0     0.0     0.0     0.0     0.0     0.0     0.0     0.0     0.0  \n",
      "9998     0.0     0.0     0.0     0.0     0.0     0.0     0.0     0.0     0.0  \n",
      "9999     0.0     0.0     0.0     0.0     0.0     0.0     0.0     0.0     0.0  \n",
      "\n",
      "[10000 rows x 9503 columns]\n",
      "        385    0  0.1     34    35    1  1.1     6  1.2  0.2  ...  0.9474  \\\n",
      "0     485.0  0.0  0.0   44.0   3.0  1.0  0.0   5.0  1.0  0.0  ...     0.0   \n",
      "1     567.0  0.0  0.0   39.0  21.0  2.0  2.0   6.0  3.0  2.0  ...     0.0   \n",
      "2      95.0  0.0  0.0   31.0   3.0  7.0  7.0  31.0  5.0  1.0  ...     0.0   \n",
      "3      28.0  0.0  0.0    2.0   1.0  0.0  0.0   0.0  1.0  0.0  ...     0.0   \n",
      "4     525.0  0.0  0.0   77.0   4.0  3.0  1.0   7.0  2.0  1.0  ...     0.0   \n",
      "...     ...  ...  ...    ...   ...  ...  ...   ...  ...  ...  ...     ...   \n",
      "7840    0.0  0.0  0.0    8.0   0.0  0.0  0.0   0.0  0.0  0.0  ...     0.0   \n",
      "7841    0.0  0.0  0.0    8.0   0.0  0.0  0.0   0.0  0.0  0.0  ...     0.0   \n",
      "7842    2.0  0.0  0.0  340.0  15.0  8.0  7.0  18.0  3.0  6.0  ...     0.0   \n",
      "7843    0.0  0.0  0.0    8.0   0.0  0.0  0.0   0.0  0.0  0.0  ...     0.0   \n",
      "7844    0.0  0.0  0.0    8.0   0.0  0.0  0.0   0.0  0.0  0.0  ...     0.0   \n",
      "\n",
      "      0.9475  0.9476  0.9477  0.9478  0.9479  0.9480  0.9481  0.9482  0.9483  \n",
      "0        0.0     0.0     0.0     0.0     0.0     0.0     0.0     0.0     0.0  \n",
      "1        0.0     0.0     0.0     0.0     0.0     0.0     0.0     0.0     0.0  \n",
      "2        0.0     0.0     0.0     0.0     0.0     0.0     0.0     0.0     0.0  \n",
      "3        0.0     0.0     0.0     0.0     0.0     0.0     0.0     0.0     0.0  \n",
      "4        0.0     0.0     0.0     0.0     0.0     0.0     0.0     0.0     0.0  \n",
      "...      ...     ...     ...     ...     ...     ...     ...     ...     ...  \n",
      "7840     0.0     0.0     0.0     0.0     0.0     0.0     0.0     0.0     0.0  \n",
      "7841     0.0     0.0     0.0     0.0     0.0     0.0     0.0     0.0     0.0  \n",
      "7842     0.0     0.0     0.0     0.0     0.0     0.0     0.0     0.0     0.0  \n",
      "7843     0.0     0.0     0.0     0.0     0.0     0.0     0.0     0.0     0.0  \n",
      "7844     0.0     0.0     0.0     0.0     0.0     0.0     0.0     0.0     0.0  \n",
      "\n",
      "[7845 rows x 9503 columns]\n",
      "         858    0  0.1     68    59    9   11    18    3    5  ...  0.9458  \\\n",
      "0      276.0  0.0  0.0   44.0   7.0  0.0  3.0  18.0  1.0  0.0  ...     0.0   \n",
      "1      618.0  0.0  0.0   46.0   3.0  1.0  0.0   2.0  1.0  1.0  ...     0.0   \n",
      "2      523.0  1.0  0.0   34.0   3.0  0.0  2.0   9.0  1.0  0.0  ...     0.0   \n",
      "3       34.0  0.0  0.0   13.0   5.0  0.0  0.0   6.0  1.0  0.0  ...     0.0   \n",
      "4     1276.0  4.0  0.0  207.0  54.0  5.0  5.0  19.0  2.0  6.0  ...     0.0   \n",
      "...      ...  ...  ...    ...   ...  ...  ...   ...  ...  ...  ...     ...   \n",
      "9995   102.0  0.0  0.0   19.0   1.0  0.0  2.0   9.0  2.0  0.0  ...     0.0   \n",
      "9996     6.0  8.0  0.0   12.0   0.0  0.0  0.0   2.0  1.0  0.0  ...     0.0   \n",
      "9997   623.0  0.0  0.0  141.0  43.0  6.0  4.0  22.0  3.0  3.0  ...     0.0   \n",
      "9998    12.0  7.0  0.0   37.0   1.0  5.0  0.0   3.0  1.0  0.0  ...     0.0   \n",
      "9999    32.0  0.0  0.0  568.0   4.0  0.0  0.0   2.0  1.0  0.0  ...     0.0   \n",
      "\n",
      "      0.9459  0.9460  0.9461  0.9462  0.9463  0.9464  0.9465  0.9466  0.9467  \n",
      "0        0.0     0.0     0.0     0.0     0.0     0.0     0.0     0.0     0.0  \n",
      "1        0.0     0.0     0.0     0.0     0.0     0.0     0.0     0.0     0.0  \n",
      "2        0.0     0.0     0.0     0.0     0.0     0.0     0.0     0.0     0.0  \n",
      "3        0.0     0.0     0.0     0.0     0.0     0.0     0.0     0.0     0.0  \n",
      "4        0.0     0.0     0.0     0.0     0.0     0.0     0.0     0.0     0.0  \n",
      "...      ...     ...     ...     ...     ...     ...     ...     ...     ...  \n",
      "9995     0.0     0.0     0.0     0.0     0.0     0.0     0.0     0.0     0.0  \n",
      "9996     0.0     0.0     0.0     0.0     0.0     0.0     0.0     0.0     0.0  \n",
      "9997     0.0     0.0     0.0     0.0     0.0     0.0     0.0     0.0     0.0  \n",
      "9998     0.0     0.0     0.0     0.0     0.0     0.0     0.0     0.0     0.0  \n",
      "9999     0.0     0.0     0.0     0.0     0.0     0.0     0.0     0.0     0.0  \n",
      "\n",
      "[10000 rows x 9503 columns]\n"
     ]
    }
   ],
   "source": [
    "#计算每个CSV有多少行数据\n",
    "data = [\n",
    "    #\"Ben0.csv\",\n",
    "    \"Ben1.csv\",\n",
    "    \"Ben2.csv\",\n",
    "    \"Ben3.csv\",\n",
    "    \"Ben4.csv\",\n",
    "]\n",
    "for i in data:\n",
    "    dataset = pd.read_csv(i,dtype=float,skiprows=1, chunksize=10000, iterator=True ,usecols=cols)\n",
    "    sum = 0\n",
    "    print(dataset.get_chunk())\n",
    "    \n",
    "    '''\n",
    "    for g in dataset:\n",
    "        g = np.array(g)\n",
    "        sum = sum + g.shape[0]\n",
    "        print(sum)\n",
    "    print(\"total：\",sum)\n",
    "    '''\n",
    "\n"
   ]
  },
  {
   "cell_type": "code",
   "execution_count": null,
   "metadata": {},
   "outputs": [],
   "source": []
  }
 ],
 "metadata": {
  "kernelspec": {
   "display_name": "Python 3",
   "language": "python",
   "name": "python3"
  },
  "language_info": {
   "codemirror_mode": {
    "name": "ipython",
    "version": 3
   },
   "file_extension": ".py",
   "mimetype": "text/x-python",
   "name": "python",
   "nbconvert_exporter": "python",
   "pygments_lexer": "ipython3",
   "version": "3.7.6"
  }
 },
 "nbformat": 4,
 "nbformat_minor": 5
}
